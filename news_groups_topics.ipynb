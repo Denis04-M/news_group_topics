{
  "cells": [
    {
      "cell_type": "markdown",
      "metadata": {
        "id": "view-in-github",
        "colab_type": "text"
      },
      "source": [
        "<a href=\"https://colab.research.google.com/github/Denis04-M/news_group_topics/blob/main/news_groups_topics.ipynb\" target=\"_parent\"><img src=\"https://colab.research.google.com/assets/colab-badge.svg\" alt=\"Open In Colab\"/></a>"
      ]
    },
    {
      "cell_type": "code",
      "execution_count": 41,
      "metadata": {
        "colab": {
          "base_uri": "https://localhost:8080/",
          "height": 1000
        },
        "id": "Oq5ZxfnfBWBz",
        "outputId": "dfd6c21c-69cb-43ae-8486-8e5a3491e75f"
      },
      "outputs": [
        {
          "output_type": "stream",
          "name": "stdout",
          "text": [
            "['00' '000' '0d' '0t' '10' '100' '11' '12' '13' '14' '145' '15' '16' '17'\n",
            " '18' '19' '1993' '1d9' '20' '21' '22' '23' '24' '25' '26' '27' '28' '29'\n",
            " '30' '31' '32' '33' '34' '34u' '35' '40' '45' '50' '55' '80' '92' '93'\n",
            " '__' '___' 'a86' 'able' 'ac' 'access' 'actually' 'address' 'ago' 'agree'\n",
            " 'al' 'american' 'andrew' 'answer' 'anybody' 'apple' 'application' 'apr'\n",
            " 'april' 'area' 'argument' 'armenian' 'armenians' 'article' 'ask' 'asked'\n",
            " 'att' 'au' 'available' 'away' 'ax' 'b8f' 'bad' 'based' 'believe'\n",
            " 'berkeley' 'best' 'better' 'bible' 'big' 'bike' 'bit' 'black' 'board'\n",
            " 'body' 'book' 'box' 'buy' 'ca' 'california' 'called' 'came' 'canada'\n",
            " 'car' 'card' 'care' 'case' 'cause' 'cc' 'center' 'certain' 'certainly'\n",
            " 'change' 'check' 'children' 'chip' 'christ' 'christian' 'christians'\n",
            " 'church' 'city' 'claim' 'clinton' 'clipper' 'cmu' 'code' 'college'\n",
            " 'color' 'colorado' 'columbia' 'com' 'come' 'comes' 'company' 'computer'\n",
            " 'consider' 'contact' 'control' 'copy' 'correct' 'cost' 'country' 'couple'\n",
            " 'course' 'cs' 'current' 'cwru' 'data' 'dave' 'david' 'day' 'days' 'db'\n",
            " 'deal' 'death' 'department' 'dept' 'did' 'didn' 'difference' 'different'\n",
            " 'disk' 'display' 'distribution' 'division' 'dod' 'does' 'doesn' 'doing'\n",
            " 'don' 'dos' 'drive' 'driver' 'drivers' 'earth' 'edu' 'email' 'encryption'\n",
            " 'end' 'engineering' 'especially' 'evidence' 'exactly' 'example'\n",
            " 'experience' 'fact' 'faith' 'faq' 'far' 'fast' 'fax' 'feel' 'file'\n",
            " 'files' 'following' 'free' 'ftp' 'g9v' 'game' 'games' 'general' 'getting'\n",
            " 'given' 'gmt' 'god' 'going' 'good' 'got' 'gov' 'government' 'graphics'\n",
            " 'great' 'group' 'groups' 'guess' 'gun' 'guns' 'hand' 'hard' 'hardware'\n",
            " 'having' 'health' 'heard' 'hell' 'help' 'hi' 'high' 'history' 'hockey'\n",
            " 'home' 'hope' 'host' 'house' 'hp' 'human' 'ibm' 'idea' 'image'\n",
            " 'important' 'include' 'including' 'info' 'information' 'instead'\n",
            " 'institute' 'interested' 'internet' 'isn' 'israel' 'israeli' 'issue'\n",
            " 'james' 'jesus' 'jewish' 'jews' 'jim' 'john' 'just' 'keith' 'key' 'keys'\n",
            " 'keywords' 'kind' 'know' 'known' 'large' 'later' 'law' 'left' 'let'\n",
            " 'level' 'life' 'like' 'likely' 'line' 'lines' 'list' 'little' 'live' 'll'\n",
            " 'local' 'long' 'look' 'looking' 'lot' 'love' 'low' 'ma' 'mac' 'machine'\n",
            " 'mail' 'major' 'make' 'makes' 'making' 'man' 'mark' 'matter' 'max'\n",
            " 'maybe' 'mean' 'means' 'memory' 'men' 'message' 'michael' 'mike' 'mind'\n",
            " 'mit' 'money' 'mr' 'ms' 'na' 'nasa' 'national' 'need' 'net' 'netcom'\n",
            " 'network' 'new' 'news' 'newsreader' 'nice' 'nntp' 'non' 'note' 'number'\n",
            " 'numbers' 'office' 'oh' 'ohio' 'old' 'open' 'opinions' 'order' 'org'\n",
            " 'organization' 'original' 'output' 'package' 'paul' 'pay' 'pc' 'people'\n",
            " 'period' 'person' 'phone' 'pitt' 'pl' 'place' 'play' 'players' 'point'\n",
            " 'points' 'police' 'possible' 'post' 'posting' 'power' 'president' 'press'\n",
            " 'pretty' 'price' 'private' 'probably' 'problem' 'problems' 'program'\n",
            " 'programs' 'provide' 'pub' 'public' 'question' 'questions' 'quite' 'read'\n",
            " 'reading' 'real' 'really' 'reason' 'religion' 'remember' 'reply'\n",
            " 'research' 'right' 'rights' 'robert' 'run' 'running' 'said' 'sale' 'san'\n",
            " 'saw' 'say' 'saying' 'says' 'school' 'science' 'screen' 'scsi' 'season'\n",
            " 'second' 'security' 'seen' 'send' 'sense' 'server' 'service' 'services'\n",
            " 'set' 'similar' 'simple' 'simply' 'single' 'size' 'small' 'software'\n",
            " 'sorry' 'sort' 'sound' 'source' 'space' 'speed' 'st' 'standard' 'start'\n",
            " 'started' 'state' 'states' 'steve' 'stop' 'stuff' 'subject' 'summary'\n",
            " 'sun' 'support' 'sure' 'systems' 'talk' 'talking' 'team' 'technology'\n",
            " 'tell' 'test' 'text' 'thanks' 'thing' 'things' 'think' 'thought' 'time'\n",
            " 'times' 'today' 'told' 'took' 'toronto' 'tried' 'true' 'truth' 'try'\n",
            " 'trying' 'turkish' 'type' 'uiuc' 'uk' 'understand' 'university' 'unix'\n",
            " 'unless' 'usa' 'use' 'used' 'user' 'using' 'usually' 'uucp' 've'\n",
            " 'version' 'video' 'view' 'virginia' 'vs' 'want' 'wanted' 'war'\n",
            " 'washington' 'way' 'went' 'white' 'win' 'window' 'windows' 'won' 'word'\n",
            " 'words' 'work' 'working' 'works' 'world' 'wouldn' 'write' 'writes'\n",
            " 'wrong' 'wrote' 'year' 'years' 'yes' 'york']\n"
          ]
        },
        {
          "output_type": "display_data",
          "data": {
            "text/plain": [
              "<Figure size 360x360 with 1 Axes>"
            ],
            "image/png": "[encoded data removed]"
          },
          "metadata": {
            "needs_background": "light"
          }
        }
      ],
      "source": [
        "from sklearn.datasets import fetch_20newsgroups\n",
        "import seaborn as sns\n",
        "import matplotlib.pyplot as plt\n",
        "from sklearn.feature_extraction.text import CountVectorizer\n",
        "import numpy as np\n",
        "from nltk.stem import WordNetLemmatizer\n",
        "from nltk.corpus import names\n",
        "\n",
        "topics = fetch_20newsgroups()\n",
        "cv = CountVectorizer(stop_words = 'english', max_features= 500)\n",
        "transformed = cv.fit_transform(topics.data)\n",
        "print(cv.get_feature_names_out())\n",
        "\n",
        "# plotting the distribution of words\n",
        "sns.displot(np.log(transformed.toarray().sum(axis=0)))\n",
        "plt.xlabel('Log Count')\n",
        "plt.xlabel('Frequeny')\n",
        "plt.title('Distribution of 500 words')\n",
        "plt.show()"
      ]
    },
    {
      "cell_type": "code",
      "source": [
        "# data processing\n",
        "\n",
        "# import nltk\n",
        "# nltk.download('wordnet')\n",
        "\n",
        "def letters_only(astr):\n",
        "  return astr.isalpha()\n",
        "\n",
        "all_names = set(names.words())\n",
        "lemmatizer = WordNetLemmatizer()\n",
        "cleaned = []\n",
        "\n",
        "for topic in topics.data:\n",
        "  cleaned.append(' '.join([lemmatizer.lemmatize(word.lower())\n",
        "  for word in topic.split()\n",
        "  if letters_only(word) #calling function to remove number and special char\n",
        "  and word not in all_names])) # removing names\n",
        "\n",
        "transformed = cv.fit_transform(cleaned)\n",
        "print(cv.get_feature_names())"
      ],
      "metadata": {
        "colab": {
          "base_uri": "https://localhost:8080/"
        },
        "id": "ZZI5c2ItgqgM",
        "outputId": "b617b214-0970-4155-b747-3d70652949d5"
      },
      "execution_count": 37,
      "outputs": [
        {
          "output_type": "stream",
          "name": "stdout",
          "text": [
            "[nltk_data] Downloading package wordnet to /root/nltk_data...\n",
            "[nltk_data]   Package wordnet is already up-to-date!\n",
            "['able', 'accept', 'access', 'according', 'act', 'action', 'actually', 'add', 'address', 'ago', 'agree', 'algorithm', 'allow', 'american', 'anonymous', 'answer', 'anybody', 'apple', 'application', 'apr', 'arab', 'area', 'argument', 'armenian', 'article', 'ask', 'asked', 'assume', 'atheist', 'attack', 'attempt', 'available', 'away', 'bad', 'based', 'basic', 'belief', 'believe', 'best', 'better', 'bible', 'big', 'bike', 'bit', 'black', 'board', 'body', 'book', 'box', 'build', 'bus', 'business', 'buy', 'ca', 'california', 'called', 'came', 'car', 'card', 'care', 'carry', 'case', 'cause', 'center', 'certain', 'certainly', 'chance', 'change', 'check', 'child', 'chip', 'christian', 'church', 'city', 'claim', 'clear', 'clipper', 'code', 'college', 'color', 'come', 'coming', 'command', 'comment', 'common', 'communication', 'company', 'computer', 'computing', 'consider', 'considered', 'contact', 'control', 'controller', 'copy', 'correct', 'cost', 'country', 'couple', 'course', 'cover', 'create', 'crime', 'current', 'cut', 'data', 'day', 'db', 'deal', 'death', 'department', 'design', 'device', 'did', 'difference', 'different', 'discussion', 'disk', 'display', 'division', 'dod', 'doe', 'doing', 'drive', 'driver', 'drug', 'early', 'earth', 'easy', 'effect', 'email', 'encryption', 'end', 'engineering', 'entry', 'error', 'especially', 'event', 'evidence', 'exactly', 'example', 'expect', 'experience', 'explain', 'face', 'fact', 'faq', 'far', 'fast', 'federal', 'feel', 'figure', 'file', 'final', 'following', 'food', 'force', 'form', 'free', 'friend', 'ftp', 'function', 'game', 'general', 'getting', 'given', 'gmt', 'goal', 'god', 'going', 'good', 'got', 'government', 'graphic', 'great', 'greek', 'ground', 'group', 'guess', 'gun', 'guy', 'ha', 'hand', 'hard', 'hardware', 'having', 'head', 'health', 'hear', 'heard', 'hell', 'help', 'high', 'history', 'hit', 'hockey', 'hold', 'home', 'hope', 'house', 'human', 'ibm', 'idea', 'image', 'important', 'include', 'includes', 'including', 'individual', 'info', 'information', 'instead', 'institute', 'interested', 'interesting', 'international', 'internet', 'israeli', 'issue', 'jew', 'jewish', 'job', 'just', 'key', 'kill', 'killed', 'kind', 'know', 'known', 'la', 'large', 'later', 'law', 'le', 'lead', 'league', 'left', 'let', 'level', 'life', 'light', 'like', 'likely', 'line', 'list', 'little', 'live', 'local', 'long', 'longer', 'look', 'looking', 'lost', 'lot', 'love', 'low', 'machine', 'mail', 'main', 'major', 'make', 'making', 'man', 'manager', 'matter', 'maybe', 'mean', 'medical', 'member', 'memory', 'men', 'message', 'method', 'military', 'million', 'mind', 'mode', 'model', 'money', 'monitor', 'month', 'moral', 'mouse', 'muslim', 'na', 'nasa', 'national', 'near', 'need', 'needed', 'network', 'new', 'news', 'nice', 'north', 'note', 'number', 'offer', 'office', 'old', 'open', 'opinion', 'order', 'original', 'output', 'package', 'particular', 'past', 'pay', 'pc', 'people', 'period', 'person', 'personal', 'phone', 'place', 'play', 'player', 'point', 'police', 'policy', 'political', 'position', 'possible', 'post', 'posted', 'posting', 'power', 'president', 'press', 'pretty', 'previous', 'price', 'private', 'probably', 'problem', 'product', 'program', 'project', 'provide', 'public', 'purpose', 'question', 'quite', 'radio', 'rate', 'read', 'reading', 'real', 'really', 'reason', 'recently', 'reference', 'religion', 'religious', 'remember', 'reply', 'report', 'research', 'response', 'rest', 'result', 'return', 'right', 'road', 'rule', 'run', 'running', 'russian', 'said', 'sale', 'san', 'save', 'saw', 'say', 'saying', 'school', 'science', 'screen', 'scsi', 'second', 'section', 'security', 'seen', 'sell', 'send', 'sense', 'sent', 'serial', 'server', 'service', 'set', 'shall', 'short', 'shot', 'similar', 'simple', 'simply', 'single', 'site', 'situation', 'size', 'small', 'software', 'sort', 'sound', 'source', 'space', 'special', 'specific', 'speed', 'standard', 'start', 'started', 'state', 'statement', 'stop', 'strong', 'study', 'stuff', 'subject', 'sun', 'support', 'sure', 'taken', 'taking', 'talk', 'talking', 'tape', 'tax', 'team', 'technical', 'technology', 'tell', 'term', 'test', 'texas', 'text', 'thanks', 'thing', 'think', 'thinking', 'thought', 'time', 'tin', 'today', 'told', 'took', 'total', 'tried', 'true', 'truth', 'try', 'trying', 'turkish', 'turn', 'type', 'understand', 'unit', 'united', 'university', 'unix', 'unless', 'usa', 'use', 'used', 'user', 'using', 'usually', 'value', 'various', 'version', 'video', 'view', 'wa', 'want', 'wanted', 'war', 'water', 'way', 'weapon', 'week', 'went', 'western', 'white', 'widget', 'willing', 'win', 'window', 'woman', 'word', 'work', 'working', 'world', 'write', 'written', 'wrong', 'year', 'york', 'young']\n"
          ]
        },
        {
          "output_type": "stream",
          "name": "stderr",
          "text": [
            "/usr/local/lib/python3.7/dist-packages/sklearn/utils/deprecation.py:87: FutureWarning: Function get_feature_names is deprecated; get_feature_names is deprecated in 1.0 and will be removed in 1.2. Please use get_feature_names_out instead.\n",
            "  warnings.warn(msg, category=FutureWarning)\n"
          ]
        }
      ]
    },
    {
      "cell_type": "code",
      "source": [
        "from sklearn.cluster import KMeans\n",
        "km = KMeans(n_clusters= 20)\n",
        "km.fit(transformed)\n",
        "labels = topics.target\n",
        "\n",
        "plt.scatter(labels, km.labels_)\n",
        "plt.xlabel(\"Newsgroups\")\n",
        "plt.ylabel('Cluster')\n",
        "plt.show()"
      ],
      "metadata": {
        "colab": {
          "base_uri": "https://localhost:8080/",
          "height": 279
        },
        "id": "6modl3egnVvr",
        "outputId": "45879561-64fc-4db9-ed39-4877826bccd8"
      },
      "execution_count": 38,
      "outputs": [
        {
          "output_type": "display_data",
          "data": {
            "text/plain": [
              "<Figure size 432x288 with 1 Axes>"
            ],
            "image/png": "[encoded data removed]"
          },
          "metadata": {
            "needs_background": "light"
          }
        }
      ]
    },
    {
      "cell_type": "code",
      "source": [
        "from sklearn.decomposition import NMF\n",
        "\n",
        "nmf = NMF(n_components = 100, random_state=43).fit(transformed)\n",
        "for topic_idx, topic in enumerate(nmf.components_):\n",
        "  label = f'{topic_idx} :'\n",
        "  print(label, \" \".join([cv.get_feature_names()[i]\n",
        "                         for i in topic.argsort() [:-9:-1]]))"
      ],
      "metadata": {
        "colab": {
          "base_uri": "https://localhost:8080/"
        },
        "id": "7nMpobaypetb",
        "outputId": "1122dc86-bccf-45c2-8022-f39e050720b1"
      },
      "execution_count": 43,
      "outputs": [
        {
          "output_type": "stream",
          "name": "stderr",
          "text": [
            "/usr/local/lib/python3.7/dist-packages/sklearn/decomposition/_nmf.py:294: FutureWarning: The 'init' value, when 'init=None' and n_components is less than n_samples and n_features, will be changed from 'nndsvd' to 'nndsvda' in 1.1 (renaming of 0.26).\n",
            "  FutureWarning,\n",
            "/usr/local/lib/python3.7/dist-packages/sklearn/utils/deprecation.py:87: FutureWarning: Function get_feature_names is deprecated; get_feature_names is deprecated in 1.0 and will be removed in 1.2. Please use get_feature_names_out instead.\n",
            "  warnings.warn(msg, category=FutureWarning)\n"
          ]
        },
        {
          "output_type": "stream",
          "name": "stdout",
          "text": [
            "0 : ax max pl b8f 45 14 mr au\n",
            "1 : a86 b8f 1d9 ax 145 34u g9v 0t\n",
            "2 : available edu version mit pub based ftp sun\n",
            "3 : db cs al bit data left place right\n",
            "4 : g9v b8f a86 1d9 ax 145 0d mr\n",
            "5 : 14 16 10 12 13 15 11 20\n",
            "6 : didn know came went did started saw took\n",
            "7 : file gun control states mr house 1993 code\n",
            "8 : 0d 145 a86 0t 45 34u 34 b8f\n",
            "9 : edu john david mit au andrew cmu uiuc\n",
            "10 : mr president going know said did groups package\n",
            "11 : bit 32 mac ibm 93 16 92 color\n",
            "12 : 00 20 15 won 30 san american berkeley\n",
            "13 : internet email information mail address user access network\n",
            "14 : hockey team season games division 92 st players\n",
            "15 : output file program line open write read info\n",
            "16 : god bible christ hell life man world faith\n",
            "17 : 55 28 45 35 21 32 30 40\n",
            "18 : list day information send faq open look mail\n",
            "19 : 25 35 34 32 33 31 29 team\n",
            "20 : image software user include display sun set using\n",
            "21 : space earth nasa technology national program small news\n",
            "22 : 1d9 pl 34u b8f 0t g9v 34 st\n",
            "23 : use used using note similar standard work high\n",
            "24 : turkish jews jewish history war government book did\n",
            "25 : disk hard drive card 16 systems speed high\n",
            "26 : encryption technology chip clipper government access security law\n",
            "27 : government president american program support money package private\n",
            "28 : com netcom att ibm hp sun steve mark\n",
            "29 : health 1993 april 10 20 number states children\n",
            "30 : jesus david john christian christians course come faith\n",
            "31 : graphics pub mail send ftp stuff files package\n",
            "32 : ms president package ll going groups working said\n",
            "33 : scsi pc mac chip bit fast hard drivers\n",
            "34 : war world april states called ago years government\n",
            "35 : image file color version files free bit programs\n",
            "36 : data available ftp information contact package ibm display\n",
            "37 : key keys public bit message security used number\n",
            "38 : card video drivers board support know driver 16\n",
            "39 : subject power usually need house don run used\n",
            "40 : dos 15 20 35 30 world david net\n",
            "41 : article pitt uucp apple toronto distribution wrote subject\n",
            "42 : dod number list bike know mail ftp live\n",
            "43 : program info files number source email file programs\n",
            "44 : 17 27 24 ma 11 145 pl al\n",
            "45 : application type set state display code used file\n",
            "46 : ca canada comes best david write players toronto\n",
            "47 : gun guns control police state used canada city\n",
            "48 : 50 40 10 80 man 20 black 25\n",
            "49 : 000 100 11 12 13 14 years 22\n",
            "50 : posting service news group mail net want groups\n",
            "51 : israel israeli jews state jewish fact rights questions\n",
            "52 : question human answer life rights reason claim ask\n",
            "53 : drive single 16 open 40 17 using 28\n",
            "54 : good 50 better want really bad great best\n",
            "55 : armenian armenians turkish uucp world government today people\n",
            "56 : said says say went let home look going\n",
            "57 : subject lines organization thanks distribution reply usa sale\n",
            "58 : version contact type pc ftp available mac ibm\n",
            "59 : right state second rights government free human left\n",
            "60 : period power play second 10 11 st 18\n",
            "61 : university state history ohio general california department washington\n",
            "62 : cs colorado post net dept mark pitt note\n",
            "63 : don know want ll doesn yes say understand\n",
            "64 : pub ftp internet computer org email information public\n",
            "65 : like really better look little things stuff love\n",
            "66 : 34u 34 pl 1d9 0t 80 st al\n",
            "67 : time years long real able actually little matter\n",
            "68 : vs 16 10 15 pitt san toronto st\n",
            "69 : think lot really say saying try issue didn\n",
            "70 : writes lines organization subject news uiuc jim uucp\n",
            "71 : argument true example truth used general bible cause\n",
            "72 : ___ __ april lines subject organization software gov\n",
            "73 : just maybe doesn big make probably isn course\n",
            "74 : host posting nntp distribution world usa cwru organization\n",
            "75 : year years season better old division 20 lot\n",
            "76 : problem problems using sound apple driver drivers running\n",
            "77 : new york washington old price technology used provide\n",
            "78 : uk ac mail paul mit subject wrote newsreader\n",
            "79 : does know mean doesn say make actually best\n",
            "80 : nasa gov center access available ftp contact cost\n",
            "81 : work school lot want going important program really\n",
            "82 : car speed driver better buy drivers change high\n",
            "83 : cc columbia au private reply hp canada health\n",
            "84 : people make things country want life live doing\n",
            "85 : ve got ll seen going heard years help\n",
            "86 : believe christian religion church christians say evidence faith\n",
            "87 : way things best word course say thing really\n",
            "88 : 145 b8f 0t pl 14 g9v au 45\n",
            "89 : center research number april 10 national 20 internet\n",
            "90 : science computer dept pitt evidence years department earth\n",
            "91 : law paul day jewish christians jews 19 state\n",
            "92 : window subject user program using application information answer\n",
            "93 : windows drivers driver software run using memory running\n",
            "94 : information police san said groups group files government\n",
            "95 : book read number org bible problems david numbers\n",
            "96 : server faq mit display screen memory run running\n",
            "97 : did death point say reply case used word\n",
            "98 : game team games season got win play points\n",
            "99 : apr 1993 93 gmt message 14 reply faq\n"
          ]
        }
      ]
    }
  ],
  "metadata": {
    "colab": {
      "name": "news_groups_topics.ipynb",
      "provenance": [],
      "collapsed_sections": [],
      "authorship_tag": "ABX9TyMCUcQaTbvGpwpU+DSlEstr",
      "include_colab_link": true
    },
    "kernelspec": {
      "display_name": "Python 3",
      "name": "python3"
    },
    "language_info": {
      "name": "python"
    }
  },
  "nbformat": 4,
  "nbformat_minor": 0
}