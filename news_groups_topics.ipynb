{
  "cells": [
    {
      "cell_type": "markdown",
      "metadata": {
        "id": "view-in-github",
        "colab_type": "text"
      },
      "source": [
        "<a href=\"https://colab.research.google.com/github/Denis04-M/news_group_topics/blob/main/news_groups_topics.ipynb\" target=\"_parent\"><img src=\"https://colab.research.google.com/assets/colab-badge.svg\" alt=\"Open In Colab\"/></a>"
      ]
    },
    {
      "cell_type": "code",
      "execution_count": 29,
      "metadata": {
        "colab": {
          "base_uri": "https://localhost:8080/",
          "height": 402
        },
        "id": "Oq5ZxfnfBWBz",
        "outputId": "fc5ee6e6-2f31-44f7-b83d-f3649534248a"
      },
      "outputs": [
        {
          "output_type": "stream",
          "name": "stderr",
          "text": [
            "/usr/local/lib/python3.7/dist-packages/sklearn/utils/deprecation.py:87: FutureWarning: Function get_feature_names is deprecated; get_feature_names is deprecated in 1.0 and will be removed in 1.2. Please use get_feature_names_out instead.\n",
            "  warnings.warn(msg, category=FutureWarning)\n",
            "/usr/local/lib/python3.7/dist-packages/seaborn/distributions.py:2619: FutureWarning: `distplot` is a deprecated function and will be removed in a future version. Please adapt your code to use either `displot` (a figure-level function with similar flexibility) or `histplot` (an axes-level function for histograms).\n",
            "  warnings.warn(msg, FutureWarning)\n"
          ]
        },
        {
          "output_type": "stream",
          "name": "stdout",
          "text": [
            "['00', '000', '0d', '0t', '10', '100', '11', '12', '13', '14', '145', '15', '16', '17', '18', '19', '1993', '1d9', '20', '21', '22', '23', '24', '25', '26', '27', '28', '29', '30', '31', '32', '33', '34', '34u', '35', '40', '45', '50', '55', '80', '92', '93', '__', '___', 'a86', 'able', 'ac', 'access', 'actually', 'address', 'ago', 'agree', 'al', 'american', 'andrew', 'answer', 'anybody', 'apple', 'application', 'apr', 'april', 'area', 'argument', 'armenian', 'armenians', 'article', 'ask', 'asked', 'att', 'au', 'available', 'away', 'ax', 'b8f', 'bad', 'based', 'believe', 'berkeley', 'best', 'better', 'bible', 'big', 'bike', 'bit', 'black', 'board', 'body', 'book', 'box', 'buy', 'ca', 'california', 'called', 'came', 'canada', 'car', 'card', 'care', 'case', 'cause', 'cc', 'center', 'certain', 'certainly', 'change', 'check', 'children', 'chip', 'christ', 'christian', 'christians', 'church', 'city', 'claim', 'clinton', 'clipper', 'cmu', 'code', 'college', 'color', 'colorado', 'columbia', 'com', 'come', 'comes', 'company', 'computer', 'consider', 'contact', 'control', 'copy', 'correct', 'cost', 'country', 'couple', 'course', 'cs', 'current', 'cwru', 'data', 'dave', 'david', 'day', 'days', 'db', 'deal', 'death', 'department', 'dept', 'did', 'didn', 'difference', 'different', 'disk', 'display', 'distribution', 'division', 'dod', 'does', 'doesn', 'doing', 'don', 'dos', 'drive', 'driver', 'drivers', 'earth', 'edu', 'email', 'encryption', 'end', 'engineering', 'especially', 'evidence', 'exactly', 'example', 'experience', 'fact', 'faith', 'faq', 'far', 'fast', 'fax', 'feel', 'file', 'files', 'following', 'free', 'ftp', 'g9v', 'game', 'games', 'general', 'getting', 'given', 'gmt', 'god', 'going', 'good', 'got', 'gov', 'government', 'graphics', 'great', 'group', 'groups', 'guess', 'gun', 'guns', 'hand', 'hard', 'hardware', 'having', 'health', 'heard', 'hell', 'help', 'hi', 'high', 'history', 'hockey', 'home', 'hope', 'host', 'house', 'hp', 'human', 'ibm', 'idea', 'image', 'important', 'include', 'including', 'info', 'information', 'instead', 'institute', 'interested', 'internet', 'isn', 'israel', 'israeli', 'issue', 'james', 'jesus', 'jewish', 'jews', 'jim', 'john', 'just', 'keith', 'key', 'keys', 'keywords', 'kind', 'know', 'known', 'large', 'later', 'law', 'left', 'let', 'level', 'life', 'like', 'likely', 'line', 'lines', 'list', 'little', 'live', 'll', 'local', 'long', 'look', 'looking', 'lot', 'love', 'low', 'ma', 'mac', 'machine', 'mail', 'major', 'make', 'makes', 'making', 'man', 'mark', 'matter', 'max', 'maybe', 'mean', 'means', 'memory', 'men', 'message', 'michael', 'mike', 'mind', 'mit', 'money', 'mr', 'ms', 'na', 'nasa', 'national', 'need', 'net', 'netcom', 'network', 'new', 'news', 'newsreader', 'nice', 'nntp', 'non', 'note', 'number', 'numbers', 'office', 'oh', 'ohio', 'old', 'open', 'opinions', 'order', 'org', 'organization', 'original', 'output', 'package', 'paul', 'pay', 'pc', 'people', 'period', 'person', 'phone', 'pitt', 'pl', 'place', 'play', 'players', 'point', 'points', 'police', 'possible', 'post', 'posting', 'power', 'president', 'press', 'pretty', 'price', 'private', 'probably', 'problem', 'problems', 'program', 'programs', 'provide', 'pub', 'public', 'question', 'questions', 'quite', 'read', 'reading', 'real', 'really', 'reason', 'religion', 'remember', 'reply', 'research', 'right', 'rights', 'robert', 'run', 'running', 'said', 'sale', 'san', 'saw', 'say', 'saying', 'says', 'school', 'science', 'screen', 'scsi', 'season', 'second', 'security', 'seen', 'send', 'sense', 'server', 'service', 'services', 'set', 'similar', 'simple', 'simply', 'single', 'size', 'small', 'software', 'sorry', 'sort', 'sound', 'source', 'space', 'speed', 'st', 'standard', 'start', 'started', 'state', 'states', 'steve', 'stop', 'stuff', 'subject', 'summary', 'sun', 'support', 'sure', 'systems', 'talk', 'talking', 'team', 'technology', 'tell', 'test', 'text', 'thanks', 'thing', 'things', 'think', 'thought', 'time', 'times', 'today', 'told', 'took', 'toronto', 'tried', 'true', 'truth', 'try', 'trying', 'turkish', 'type', 'uiuc', 'uk', 'understand', 'university', 'unix', 'unless', 'usa', 'use', 'used', 'user', 'using', 'usually', 'uucp', 've', 'version', 'video', 'view', 'virginia', 'vs', 'want', 'wanted', 'war', 'washington', 'way', 'went', 'white', 'win', 'window', 'windows', 'won', 'word', 'words', 'work', 'working', 'works', 'world', 'wouldn', 'write', 'writes', 'wrong', 'wrote', 'year', 'years', 'yes', 'york']\n"
          ]
        },
        {
          "output_type": "display_data",
          "data": {
            "text/plain": [
              "<Figure size 432x288 with 1 Axes>"
            ],
            "image/png": "[encoded data removed]"
          },
          "metadata": {
            "needs_background": "light"
          }
        }
      ],
      "source": [
        "from sklearn.datasets import fetch_20newsgroups\n",
        "import seaborn as sns\n",
        "import matplotlib.pyplot as plt\n",
        "from sklearn.feature_extraction.text import CountVectorizer\n",
        "import numpy as np\n",
        "from nltk.stem import WordNetLemmatizer\n",
        "from nltk.corpus import names\n",
        "\n",
        "topics = fetch_20newsgroups()\n",
        "cv = CountVectorizer(stop_words = 'english', max_features= 500)\n",
        "transformed = cv.fit_transform(topics.data)\n",
        "print(cv.get_feature_names())\n",
        "\n",
        "# plotting the distribution of words\n",
        "sns.distplot(np.log(transformed.toarray().sum(axis=0)))\n",
        "plt.xlabel('Log Count')\n",
        "plt.xlabel('Frequeny')\n",
        "plt.title('Distribution of 500 words')\n",
        "plt.show()"
      ]
    },
    {
      "cell_type": "code",
      "source": [
        "# data processing\n",
        "\n",
        "# import nltk\n",
        "# nltk.download('wordnet')\n",
        "\n",
        "def letters_only(astr):\n",
        "  return astr.isalpha()\n",
        "\n",
        "all_names = set(names.words())\n",
        "lemmatizer = WordNetLemmatizer()\n",
        "cleaned = []\n",
        "\n",
        "for topic in topics.data:\n",
        "  cleaned.append(' '.join([lemmatizer.lemmatize(word.lower())\n",
        "  for word in topic.split()\n",
        "  if letters_only(word) #calling function to remove number and special char\n",
        "  and word not in all_names])) # removing names\n",
        "\n",
        "transformed = cv.fit_transform(cleaned)\n",
        "print(cv.get_feature_names())"
      ],
      "metadata": {
        "colab": {
          "base_uri": "https://localhost:8080/"
        },
        "id": "ZZI5c2ItgqgM",
        "outputId": "b617b214-0970-4155-b747-3d70652949d5"
      },
      "execution_count": 37,
      "outputs": [
        {
          "output_type": "stream",
          "name": "stdout",
          "text": [
            "[nltk_data] Downloading package wordnet to /root/nltk_data...\n",
            "[nltk_data]   Package wordnet is already up-to-date!\n",
            "['able', 'accept', 'access', 'according', 'act', 'action', 'actually', 'add', 'address', 'ago', 'agree', 'algorithm', 'allow', 'american', 'anonymous', 'answer', 'anybody', 'apple', 'application', 'apr', 'arab', 'area', 'argument', 'armenian', 'article', 'ask', 'asked', 'assume', 'atheist', 'attack', 'attempt', 'available', 'away', 'bad', 'based', 'basic', 'belief', 'believe', 'best', 'better', 'bible', 'big', 'bike', 'bit', 'black', 'board', 'body', 'book', 'box', 'build', 'bus', 'business', 'buy', 'ca', 'california', 'called', 'came', 'car', 'card', 'care', 'carry', 'case', 'cause', 'center', 'certain', 'certainly', 'chance', 'change', 'check', 'child', 'chip', 'christian', 'church', 'city', 'claim', 'clear', 'clipper', 'code', 'college', 'color', 'come', 'coming', 'command', 'comment', 'common', 'communication', 'company', 'computer', 'computing', 'consider', 'considered', 'contact', 'control', 'controller', 'copy', 'correct', 'cost', 'country', 'couple', 'course', 'cover', 'create', 'crime', 'current', 'cut', 'data', 'day', 'db', 'deal', 'death', 'department', 'design', 'device', 'did', 'difference', 'different', 'discussion', 'disk', 'display', 'division', 'dod', 'doe', 'doing', 'drive', 'driver', 'drug', 'early', 'earth', 'easy', 'effect', 'email', 'encryption', 'end', 'engineering', 'entry', 'error', 'especially', 'event', 'evidence', 'exactly', 'example', 'expect', 'experience', 'explain', 'face', 'fact', 'faq', 'far', 'fast', 'federal', 'feel', 'figure', 'file', 'final', 'following', 'food', 'force', 'form', 'free', 'friend', 'ftp', 'function', 'game', 'general', 'getting', 'given', 'gmt', 'goal', 'god', 'going', 'good', 'got', 'government', 'graphic', 'great', 'greek', 'ground', 'group', 'guess', 'gun', 'guy', 'ha', 'hand', 'hard', 'hardware', 'having', 'head', 'health', 'hear', 'heard', 'hell', 'help', 'high', 'history', 'hit', 'hockey', 'hold', 'home', 'hope', 'house', 'human', 'ibm', 'idea', 'image', 'important', 'include', 'includes', 'including', 'individual', 'info', 'information', 'instead', 'institute', 'interested', 'interesting', 'international', 'internet', 'israeli', 'issue', 'jew', 'jewish', 'job', 'just', 'key', 'kill', 'killed', 'kind', 'know', 'known', 'la', 'large', 'later', 'law', 'le', 'lead', 'league', 'left', 'let', 'level', 'life', 'light', 'like', 'likely', 'line', 'list', 'little', 'live', 'local', 'long', 'longer', 'look', 'looking', 'lost', 'lot', 'love', 'low', 'machine', 'mail', 'main', 'major', 'make', 'making', 'man', 'manager', 'matter', 'maybe', 'mean', 'medical', 'member', 'memory', 'men', 'message', 'method', 'military', 'million', 'mind', 'mode', 'model', 'money', 'monitor', 'month', 'moral', 'mouse', 'muslim', 'na', 'nasa', 'national', 'near', 'need', 'needed', 'network', 'new', 'news', 'nice', 'north', 'note', 'number', 'offer', 'office', 'old', 'open', 'opinion', 'order', 'original', 'output', 'package', 'particular', 'past', 'pay', 'pc', 'people', 'period', 'person', 'personal', 'phone', 'place', 'play', 'player', 'point', 'police', 'policy', 'political', 'position', 'possible', 'post', 'posted', 'posting', 'power', 'president', 'press', 'pretty', 'previous', 'price', 'private', 'probably', 'problem', 'product', 'program', 'project', 'provide', 'public', 'purpose', 'question', 'quite', 'radio', 'rate', 'read', 'reading', 'real', 'really', 'reason', 'recently', 'reference', 'religion', 'religious', 'remember', 'reply', 'report', 'research', 'response', 'rest', 'result', 'return', 'right', 'road', 'rule', 'run', 'running', 'russian', 'said', 'sale', 'san', 'save', 'saw', 'say', 'saying', 'school', 'science', 'screen', 'scsi', 'second', 'section', 'security', 'seen', 'sell', 'send', 'sense', 'sent', 'serial', 'server', 'service', 'set', 'shall', 'short', 'shot', 'similar', 'simple', 'simply', 'single', 'site', 'situation', 'size', 'small', 'software', 'sort', 'sound', 'source', 'space', 'special', 'specific', 'speed', 'standard', 'start', 'started', 'state', 'statement', 'stop', 'strong', 'study', 'stuff', 'subject', 'sun', 'support', 'sure', 'taken', 'taking', 'talk', 'talking', 'tape', 'tax', 'team', 'technical', 'technology', 'tell', 'term', 'test', 'texas', 'text', 'thanks', 'thing', 'think', 'thinking', 'thought', 'time', 'tin', 'today', 'told', 'took', 'total', 'tried', 'true', 'truth', 'try', 'trying', 'turkish', 'turn', 'type', 'understand', 'unit', 'united', 'university', 'unix', 'unless', 'usa', 'use', 'used', 'user', 'using', 'usually', 'value', 'various', 'version', 'video', 'view', 'wa', 'want', 'wanted', 'war', 'water', 'way', 'weapon', 'week', 'went', 'western', 'white', 'widget', 'willing', 'win', 'window', 'woman', 'word', 'work', 'working', 'world', 'write', 'written', 'wrong', 'year', 'york', 'young']\n"
          ]
        },
        {
          "output_type": "stream",
          "name": "stderr",
          "text": [
            "/usr/local/lib/python3.7/dist-packages/sklearn/utils/deprecation.py:87: FutureWarning: Function get_feature_names is deprecated; get_feature_names is deprecated in 1.0 and will be removed in 1.2. Please use get_feature_names_out instead.\n",
            "  warnings.warn(msg, category=FutureWarning)\n"
          ]
        }
      ]
    },
    {
      "cell_type": "code",
      "source": [
        "from sklearn.cluster import KMeans\n",
        "km = KMeans(n_clusters= 20)\n",
        "km.fit(transformed)\n",
        "labels = topics.target\n",
        "\n",
        "plt.scatter(labels, km.labels_)\n",
        "plt.xlabel(\"Newsgroups\")\n",
        "plt.ylabel('Cluster')\n",
        "plt.show()"
      ],
      "metadata": {
        "colab": {
          "base_uri": "https://localhost:8080/",
          "height": 279
        },
        "id": "6modl3egnVvr",
        "outputId": "45879561-64fc-4db9-ed39-4877826bccd8"
      },
      "execution_count": 38,
      "outputs": [
        {
          "output_type": "display_data",
          "data": {
            "text/plain": [
              "<Figure size 432x288 with 1 Axes>"
            ],
            "image/png": "[encoded data removed]"
          },
          "metadata": {
            "needs_background": "light"
          }
        }
      ]
    },
    {
      "cell_type": "code",
      "source": [
        "from sklearn.decomposition import NMF\n",
        "\n",
        "nmf = NMF(n_components = 100, random_state=43).fit(transformed)\n",
        "for topic_idx, topic in enumerate(nmf.components_):\n",
        "  label = f'{topic_idx} :'\n",
        "  print(label, \" \".join([cv.get_feature_names()[i]\n",
        "                         for i in topic.argsort() [:-9:-1]]))"
      ],
      "metadata": {
        "colab": {
          "base_uri": "https://localhost:8080/"
        },
        "id": "7nMpobaypetb",
        "outputId": "dbde925d-4e5f-479f-dafc-9fc860947ce5"
      },
      "execution_count": 40,
      "outputs": [
        {
          "output_type": "stream",
          "name": "stderr",
          "text": [
            "/usr/local/lib/python3.7/dist-packages/sklearn/decomposition/_nmf.py:294: FutureWarning: The 'init' value, when 'init=None' and n_components is less than n_samples and n_features, will be changed from 'nndsvd' to 'nndsvda' in 1.1 (renaming of 0.26).\n",
            "  FutureWarning,\n",
            "/usr/local/lib/python3.7/dist-packages/sklearn/utils/deprecation.py:87: FutureWarning: Function get_feature_names is deprecated; get_feature_names is deprecated in 1.0 and will be removed in 1.2. Please use get_feature_names_out instead.\n",
            "  warnings.warn(msg, category=FutureWarning)\n"
          ]
        },
        {
          "output_type": "stream",
          "name": "stdout",
          "text": [
            "0 : wa thought later took left order seen taken\n",
            "1 : db bit data place stuff add time line\n",
            "2 : server using display screen support code mouse application\n",
            "3 : file section information write source change entry number\n",
            "4 : disk drive hard controller support card board head\n",
            "5 : entry rule program source number info email build\n",
            "6 : new york sale change service result study early\n",
            "7 : image software user package using display include support\n",
            "8 : window manager application using offer user information course\n",
            "9 : gun united control house american second national issue\n",
            "10 : hockey league team game division player list san\n",
            "11 : turkish government sent war study came american world\n",
            "12 : program change technology display information version application rate\n",
            "13 : space nasa technology service national international small communication\n",
            "14 : government political federal sure free private local country\n",
            "15 : output line open write read return build section\n",
            "16 : people country doing tell live killed lot saying\n",
            "17 : widget application value set type return function list\n",
            "18 : child case rate le report area research group\n",
            "19 : jew jewish world war history help research arab\n",
            "20 : armenian russian muslim turkish world city road today\n",
            "21 : president said group tax press working package job\n",
            "22 : ground box usually power code current house white\n",
            "23 : russian president american support food money important private\n",
            "24 : ibm color week memory hardware monitor software standard\n",
            "25 : anonymous posting service server user group message post\n",
            "26 : la win san went list year radio near\n",
            "27 : work job young school lot private create business\n",
            "28 : encryption technology access device policy security government data\n",
            "29 : tape driver work memory using cause note following\n",
            "30 : war military world attack way united russian force\n",
            "31 : god bible shall man come life hell love\n",
            "32 : atheist religious religion belief god sort feel idea\n",
            "33 : data available information user research set model based\n",
            "34 : center research medical institute national study test north\n",
            "35 : think lot try trying talk kind agree certainly\n",
            "36 : water city division list public similar north high\n",
            "37 : section military shall weapon person division application mean\n",
            "38 : good cover great pretty probably bad issue life\n",
            "39 : drive head single mode set using model type\n",
            "40 : israeli arab attack policy true apr fact stop\n",
            "41 : use note using usually similar available standard work\n",
            "42 : know tell way come sure understand let saw\n",
            "43 : car speed driver change high buy different design\n",
            "44 : internet email address information anonymous user network mail\n",
            "45 : like look sound long little guy pretty having\n",
            "46 : going come way mean kind sure working got\n",
            "47 : state united public national political federal member local\n",
            "48 : dod bike member computer list started live email\n",
            "49 : greek killed act word western muslim turkish talk\n",
            "50 : computer information public internet list issue network communication\n",
            "51 : law act federal specific issue clear order moral\n",
            "52 : book read reference list copy second study offer\n",
            "53 : argument form true evidence event truth particular known\n",
            "54 : make sense difference little sure making end tell\n",
            "55 : scsi hard pc drive device bus different data\n",
            "56 : time long having able lot order light response\n",
            "57 : gun rate crime city death study control difference\n",
            "58 : right second free shall security mean left american\n",
            "59 : went came said told started saw took woman\n",
            "60 : power period second san special le play goal\n",
            "61 : used using product way function version note single\n",
            "62 : problem work having using help apple running error\n",
            "63 : available version widget server includes sun set support\n",
            "64 : question answer ask asked science reason claim post\n",
            "65 : san information police said group league political including\n",
            "66 : number serial large men report following million le\n",
            "67 : year ago old best sale hit long project\n",
            "68 : want help let life reason trying copy tell\n",
            "69 : point way different line algorithm exactly idea view\n",
            "70 : run running home version start hit win speed\n",
            "71 : got shot play took goal went hit lead\n",
            "72 : thing saw sure got trying kind seen asked\n",
            "73 : graphic send mail message package server various computer\n",
            "74 : university science department general computer thanks engineering texas\n",
            "75 : just maybe start thought big probably look getting\n",
            "76 : key message public security algorithm standard method attack\n",
            "77 : doe mean anybody actually different ask reading difference\n",
            "78 : game win sound play left second lead great\n",
            "79 : ha able called taken given past exactly looking\n",
            "80 : believe belief christian truth evidence claim mean different\n",
            "81 : drug study information war group reason usa evidence\n",
            "82 : need help phone able needed kind thanks bike\n",
            "83 : did death let money fact man wanted body\n",
            "84 : chip clipper serial algorithm phone communication encryption key\n",
            "85 : card driver video support mode mouse board bus\n",
            "86 : church christian member group true bible different view\n",
            "87 : ftp available anonymous general nasa package source version\n",
            "88 : better player best play probably hit maybe big\n",
            "89 : human life person moral kill claim reason world\n",
            "90 : bit using let change mode attack size quite\n",
            "91 : say mean word act clear said read simply\n",
            "92 : health medical public national care study service user\n",
            "93 : article post usa read world discussion opinion gmt\n",
            "94 : team player win play city look bad great\n",
            "95 : day come word christian said tell little way\n",
            "96 : really lot sure look fact idea actually feel\n",
            "97 : unit disk size serial total national got return\n",
            "98 : image color version free available display current better\n",
            "99 : woman men muslim religion way man great world\n"
          ]
        }
      ]
    }
  ],
  "metadata": {
    "colab": {
      "name": "news_groups_topics.ipynb",
      "provenance": [],
      "collapsed_sections": [],
      "authorship_tag": "ABX9TyNzjUzaSzkgh02iI0EaIvlF",
      "include_colab_link": true
    },
    "kernelspec": {
      "display_name": "Python 3",
      "name": "python3"
    },
    "language_info": {
      "name": "python"
    }
  },
  "nbformat": 4,
  "nbformat_minor": 0
}