{
  "cells": [
    {
      "cell_type": "markdown",
      "metadata": {
        "id": "view-in-github",
        "colab_type": "text"
      },
      "source": [
        "<a href=\"https://colab.research.google.com/github/Denis04-M/news_group_topics/blob/main/news_groups_topics.ipynb\" target=\"_parent\"><img src=\"https://colab.research.google.com/assets/colab-badge.svg\" alt=\"Open In Colab\"/></a>"
      ]
    },
    {
      "cell_type": "code",
      "execution_count": 41,
      "metadata": {
        "colab": {
          "base_uri": "https://localhost:8080/",
          "height": 1000
        },
        "id": "Oq5ZxfnfBWBz",
        "outputId": "dfd6c21c-69cb-43ae-8486-8e5a3491e75f"
      },
      "outputs": [
        {
          "output_type": "stream",
          "name": "stdout",
          "text": [
            "['00' '000' '0d' '0t' '10' '100' '11' '12' '13' '14' '145' '15' '16' '17'\n",
            " '18' '19' '1993' '1d9' '20' '21' '22' '23' '24' '25' '26' '27' '28' '29'\n",
            " '30' '31' '32' '33' '34' '34u' '35' '40' '45' '50' '55' '80' '92' '93'\n",
            " '__' '___' 'a86' 'able' 'ac' 'access' 'actually' 'address' 'ago' 'agree'\n",
            " 'al' 'american' 'andrew' 'answer' 'anybody' 'apple' 'application' 'apr'\n",
            " 'april' 'area' 'argument' 'armenian' 'armenians' 'article' 'ask' 'asked'\n",
            " 'att' 'au' 'available' 'away' 'ax' 'b8f' 'bad' 'based' 'believe'\n",
            " 'berkeley' 'best' 'better' 'bible' 'big' 'bike' 'bit' 'black' 'board'\n",
            " 'body' 'book' 'box' 'buy' 'ca' 'california' 'called' 'came' 'canada'\n",
            " 'car' 'card' 'care' 'case' 'cause' 'cc' 'center' 'certain' 'certainly'\n",
            " 'change' 'check' 'children' 'chip' 'christ' 'christian' 'christians'\n",
            " 'church' 'city' 'claim' 'clinton' 'clipper' 'cmu' 'code' 'college'\n",
            " 'color' 'colorado' 'columbia' 'com' 'come' 'comes' 'company' 'computer'\n",
            " 'consider' 'contact' 'control' 'copy' 'correct' 'cost' 'country' 'couple'\n",
            " 'course' 'cs' 'current' 'cwru' 'data' 'dave' 'david' 'day' 'days' 'db'\n",
            " 'deal' 'death' 'department' 'dept' 'did' 'didn' 'difference' 'different'\n",
            " 'disk' 'display' 'distribution' 'division' 'dod' 'does' 'doesn' 'doing'\n",
            " 'don' 'dos' 'drive' 'driver' 'drivers' 'earth' 'edu' 'email' 'encryption'\n",
            " 'end' 'engineering' 'especially' 'evidence' 'exactly' 'example'\n",
            " 'experience' 'fact' 'faith' 'faq' 'far' 'fast' 'fax' 'feel' 'file'\n",
            " 'files' 'following' 'free' 'ftp' 'g9v' 'game' 'games' 'general' 'getting'\n",
            " 'given' 'gmt' 'god' 'going' 'good' 'got' 'gov' 'government' 'graphics'\n",
            " 'great' 'group' 'groups' 'guess' 'gun' 'guns' 'hand' 'hard' 'hardware'\n",
            " 'having' 'health' 'heard' 'hell' 'help' 'hi' 'high' 'history' 'hockey'\n",
            " 'home' 'hope' 'host' 'house' 'hp' 'human' 'ibm' 'idea' 'image'\n",
            " 'important' 'include' 'including' 'info' 'information' 'instead'\n",
            " 'institute' 'interested' 'internet' 'isn' 'israel' 'israeli' 'issue'\n",
            " 'james' 'jesus' 'jewish' 'jews' 'jim' 'john' 'just' 'keith' 'key' 'keys'\n",
            " 'keywords' 'kind' 'know' 'known' 'large' 'later' 'law' 'left' 'let'\n",
            " 'level' 'life' 'like' 'likely' 'line' 'lines' 'list' 'little' 'live' 'll'\n",
            " 'local' 'long' 'look' 'looking' 'lot' 'love' 'low' 'ma' 'mac' 'machine'\n",
            " 'mail' 'major' 'make' 'makes' 'making' 'man' 'mark' 'matter' 'max'\n",
            " 'maybe' 'mean' 'means' 'memory' 'men' 'message' 'michael' 'mike' 'mind'\n",
            " 'mit' 'money' 'mr' 'ms' 'na' 'nasa' 'national' 'need' 'net' 'netcom'\n",
            " 'network' 'new' 'news' 'newsreader' 'nice' 'nntp' 'non' 'note' 'number'\n",
            " 'numbers' 'office' 'oh' 'ohio' 'old' 'open' 'opinions' 'order' 'org'\n",
            " 'organization' 'original' 'output' 'package' 'paul' 'pay' 'pc' 'people'\n",
            " 'period' 'person' 'phone' 'pitt' 'pl' 'place' 'play' 'players' 'point'\n",
            " 'points' 'police' 'possible' 'post' 'posting' 'power' 'president' 'press'\n",
            " 'pretty' 'price' 'private' 'probably' 'problem' 'problems' 'program'\n",
            " 'programs' 'provide' 'pub' 'public' 'question' 'questions' 'quite' 'read'\n",
            " 'reading' 'real' 'really' 'reason' 'religion' 'remember' 'reply'\n",
            " 'research' 'right' 'rights' 'robert' 'run' 'running' 'said' 'sale' 'san'\n",
            " 'saw' 'say' 'saying' 'says' 'school' 'science' 'screen' 'scsi' 'season'\n",
            " 'second' 'security' 'seen' 'send' 'sense' 'server' 'service' 'services'\n",
            " 'set' 'similar' 'simple' 'simply' 'single' 'size' 'small' 'software'\n",
            " 'sorry' 'sort' 'sound' 'source' 'space' 'speed' 'st' 'standard' 'start'\n",
            " 'started' 'state' 'states' 'steve' 'stop' 'stuff' 'subject' 'summary'\n",
            " 'sun' 'support' 'sure' 'systems' 'talk' 'talking' 'team' 'technology'\n",
            " 'tell' 'test' 'text' 'thanks' 'thing' 'things' 'think' 'thought' 'time'\n",
            " 'times' 'today' 'told' 'took' 'toronto' 'tried' 'true' 'truth' 'try'\n",
            " 'trying' 'turkish' 'type' 'uiuc' 'uk' 'understand' 'university' 'unix'\n",
            " 'unless' 'usa' 'use' 'used' 'user' 'using' 'usually' 'uucp' 've'\n",
            " 'version' 'video' 'view' 'virginia' 'vs' 'want' 'wanted' 'war'\n",
            " 'washington' 'way' 'went' 'white' 'win' 'window' 'windows' 'won' 'word'\n",
            " 'words' 'work' 'working' 'works' 'world' 'wouldn' 'write' 'writes'\n",
            " 'wrong' 'wrote' 'year' 'years' 'yes' 'york']\n"
          ]
        },
        {
          "output_type": "display_data",
          "data": {
            "text/plain": [
              "<Figure size 360x360 with 1 Axes>"
            ],
            "image/png": "[encoded data removed]"
          },
          "metadata": {
            "needs_background": "light"
          }
        }
      ],
      "source": [
        "from sklearn.datasets import fetch_20newsgroups\n",
        "import seaborn as sns\n",
        "import matplotlib.pyplot as plt\n",
        "from sklearn.feature_extraction.text import CountVectorizer\n",
        "import numpy as np\n",
        "from nltk.stem import WordNetLemmatizer\n",
        "from nltk.corpus import names\n",
        "\n",
        "topics = fetch_20newsgroups()\n",
        "cv = CountVectorizer(stop_words = 'english', max_features= 500)\n",
        "transformed = cv.fit_transform(topics.data)\n",
        "print(cv.get_feature_names_out())\n",
        "\n",
        "# plotting the distribution of words\n",
        "sns.displot(np.log(transformed.toarray().sum(axis=0)))\n",
        "plt.xlabel('Log Count')\n",
        "plt.xlabel('Frequeny')\n",
        "plt.title('Distribution of 500 words')\n",
        "plt.show()"
      ]
    },
    {
      "cell_type": "code",
      "source": [
        "# data processing\n",
        "\n",
        "# import nltk\n",
        "# nltk.download('wordnet')\n",
        "\n",
        "def letters_only(astr):\n",
        "  return astr.isalpha()\n",
        "\n",
        "all_names = set(names.words())\n",
        "lemmatizer = WordNetLemmatizer()\n",
        "cleaned = []\n",
        "\n",
        "for topic in topics.data:\n",
        "  cleaned.append(' '.join([lemmatizer.lemmatize(word.lower())\n",
        "  for word in topic.split()\n",
        "  if letters_only(word) #calling function to remove number and special char\n",
        "  and word not in all_names])) # removing names\n",
        "\n",
        "transformed = cv.fit_transform(cleaned)\n",
        "print(cv.get_feature_names_out())"
      ],
      "metadata": {
        "colab": {
          "base_uri": "https://localhost:8080/"
        },
        "id": "ZZI5c2ItgqgM",
        "outputId": "d0ebed35-c1f6-4dd5-af5b-00dcfe3d5ec5"
      },
      "execution_count": 44,
      "outputs": [
        {
          "output_type": "stream",
          "name": "stdout",
          "text": [
            "['able' 'accept' 'access' 'according' 'act' 'action' 'actually' 'add'\n",
            " 'address' 'ago' 'agree' 'algorithm' 'allow' 'american' 'anonymous'\n",
            " 'answer' 'anybody' 'apple' 'application' 'apr' 'arab' 'area' 'argument'\n",
            " 'armenian' 'article' 'ask' 'asked' 'assume' 'atheist' 'attack' 'attempt'\n",
            " 'available' 'away' 'bad' 'based' 'basic' 'belief' 'believe' 'best'\n",
            " 'better' 'bible' 'big' 'bike' 'bit' 'black' 'board' 'body' 'book' 'box'\n",
            " 'build' 'bus' 'business' 'buy' 'ca' 'california' 'called' 'came' 'car'\n",
            " 'card' 'care' 'carry' 'case' 'cause' 'center' 'certain' 'certainly'\n",
            " 'chance' 'change' 'check' 'child' 'chip' 'christian' 'church' 'city'\n",
            " 'claim' 'clear' 'clipper' 'code' 'college' 'color' 'come' 'coming'\n",
            " 'command' 'comment' 'common' 'communication' 'company' 'computer'\n",
            " 'computing' 'consider' 'considered' 'contact' 'control' 'controller'\n",
            " 'copy' 'correct' 'cost' 'country' 'couple' 'course' 'cover' 'create'\n",
            " 'crime' 'current' 'cut' 'data' 'day' 'db' 'deal' 'death' 'department'\n",
            " 'design' 'device' 'did' 'difference' 'different' 'discussion' 'disk'\n",
            " 'display' 'division' 'dod' 'doe' 'doing' 'drive' 'driver' 'drug' 'early'\n",
            " 'earth' 'easy' 'effect' 'email' 'encryption' 'end' 'engineering' 'entry'\n",
            " 'error' 'especially' 'event' 'evidence' 'exactly' 'example' 'expect'\n",
            " 'experience' 'explain' 'face' 'fact' 'faq' 'far' 'fast' 'federal' 'feel'\n",
            " 'figure' 'file' 'final' 'following' 'food' 'force' 'form' 'free' 'friend'\n",
            " 'ftp' 'function' 'game' 'general' 'getting' 'given' 'gmt' 'goal' 'god'\n",
            " 'going' 'good' 'got' 'government' 'graphic' 'great' 'greek' 'ground'\n",
            " 'group' 'guess' 'gun' 'guy' 'ha' 'hand' 'hard' 'hardware' 'having' 'head'\n",
            " 'health' 'hear' 'heard' 'hell' 'help' 'high' 'history' 'hit' 'hockey'\n",
            " 'hold' 'home' 'hope' 'house' 'human' 'ibm' 'idea' 'image' 'important'\n",
            " 'include' 'includes' 'including' 'individual' 'info' 'information'\n",
            " 'instead' 'institute' 'interested' 'interesting' 'international'\n",
            " 'internet' 'israeli' 'issue' 'jew' 'jewish' 'job' 'just' 'key' 'kill'\n",
            " 'killed' 'kind' 'know' 'known' 'la' 'large' 'later' 'law' 'le' 'lead'\n",
            " 'league' 'left' 'let' 'level' 'life' 'light' 'like' 'likely' 'line'\n",
            " 'list' 'little' 'live' 'local' 'long' 'longer' 'look' 'looking' 'lost'\n",
            " 'lot' 'love' 'low' 'machine' 'mail' 'main' 'major' 'make' 'making' 'man'\n",
            " 'manager' 'matter' 'maybe' 'mean' 'medical' 'member' 'memory' 'men'\n",
            " 'message' 'method' 'military' 'million' 'mind' 'mode' 'model' 'money'\n",
            " 'monitor' 'month' 'moral' 'mouse' 'muslim' 'na' 'nasa' 'national' 'near'\n",
            " 'need' 'needed' 'network' 'new' 'news' 'nice' 'north' 'note' 'number'\n",
            " 'offer' 'office' 'old' 'open' 'opinion' 'order' 'original' 'output'\n",
            " 'package' 'particular' 'past' 'pay' 'pc' 'people' 'period' 'person'\n",
            " 'personal' 'phone' 'place' 'play' 'player' 'point' 'police' 'policy'\n",
            " 'political' 'position' 'possible' 'post' 'posted' 'posting' 'power'\n",
            " 'president' 'press' 'pretty' 'previous' 'price' 'private' 'probably'\n",
            " 'problem' 'product' 'program' 'project' 'provide' 'public' 'purpose'\n",
            " 'question' 'quite' 'radio' 'rate' 'read' 'reading' 'real' 'really'\n",
            " 'reason' 'recently' 'reference' 'religion' 'religious' 'remember' 'reply'\n",
            " 'report' 'research' 'response' 'rest' 'result' 'return' 'right' 'road'\n",
            " 'rule' 'run' 'running' 'russian' 'said' 'sale' 'san' 'save' 'saw' 'say'\n",
            " 'saying' 'school' 'science' 'screen' 'scsi' 'second' 'section' 'security'\n",
            " 'seen' 'sell' 'send' 'sense' 'sent' 'serial' 'server' 'service' 'set'\n",
            " 'shall' 'short' 'shot' 'similar' 'simple' 'simply' 'single' 'site'\n",
            " 'situation' 'size' 'small' 'software' 'sort' 'sound' 'source' 'space'\n",
            " 'special' 'specific' 'speed' 'standard' 'start' 'started' 'state'\n",
            " 'statement' 'stop' 'strong' 'study' 'stuff' 'subject' 'sun' 'support'\n",
            " 'sure' 'taken' 'taking' 'talk' 'talking' 'tape' 'tax' 'team' 'technical'\n",
            " 'technology' 'tell' 'term' 'test' 'texas' 'text' 'thanks' 'thing' 'think'\n",
            " 'thinking' 'thought' 'time' 'tin' 'today' 'told' 'took' 'total' 'tried'\n",
            " 'true' 'truth' 'try' 'trying' 'turkish' 'turn' 'type' 'understand' 'unit'\n",
            " 'united' 'university' 'unix' 'unless' 'usa' 'use' 'used' 'user' 'using'\n",
            " 'usually' 'value' 'various' 'version' 'video' 'view' 'wa' 'want' 'wanted'\n",
            " 'war' 'water' 'way' 'weapon' 'week' 'went' 'western' 'white' 'widget'\n",
            " 'willing' 'win' 'window' 'woman' 'word' 'work' 'working' 'world' 'write'\n",
            " 'written' 'wrong' 'year' 'york' 'young']\n"
          ]
        }
      ]
    },
    {
      "cell_type": "code",
      "source": [
        "from sklearn.cluster import KMeans\n",
        "km = KMeans(n_clusters= 20)\n",
        "km.fit(transformed)\n",
        "labels = topics.target\n",
        "\n",
        "plt.scatter(labels, km.labels_)\n",
        "plt.xlabel(\"Newsgroups\")\n",
        "plt.ylabel('Cluster')\n",
        "plt.show()"
      ],
      "metadata": {
        "colab": {
          "base_uri": "https://localhost:8080/",
          "height": 279
        },
        "id": "6modl3egnVvr",
        "outputId": "45879561-64fc-4db9-ed39-4877826bccd8"
      },
      "execution_count": 38,
      "outputs": [
        {
          "output_type": "display_data",
          "data": {
            "text/plain": [
              "<Figure size 432x288 with 1 Axes>"
            ],
            "image/png": "[encoded data removed]"
          },
          "metadata": {
            "needs_background": "light"
          }
        }
      ]
    },
    {
      "cell_type": "code",
      "source": [
        "from sklearn.decomposition import NMF\n",
        "\n",
        "nmf = NMF(n_components = 100, random_state=43).fit(transformed)\n",
        "for topic_idx, topic in enumerate(nmf.components_):\n",
        "  label = f'{topic_idx} :'\n",
        "  print(label, \" \".join([cv.get_feature_names_out()[i]\n",
        "                         for i in topic.argsort() [:-9:-1]]))"
      ],
      "metadata": {
        "colab": {
          "base_uri": "https://localhost:8080/"
        },
        "id": "7nMpobaypetb",
        "outputId": "4e75018b-98b3-4962-d84b-d1ec8ad1a5ba"
      },
      "execution_count": 45,
      "outputs": [
        {
          "output_type": "stream",
          "name": "stderr",
          "text": [
            "/usr/local/lib/python3.7/dist-packages/sklearn/decomposition/_nmf.py:294: FutureWarning: The 'init' value, when 'init=None' and n_components is less than n_samples and n_features, will be changed from 'nndsvd' to 'nndsvda' in 1.1 (renaming of 0.26).\n",
            "  FutureWarning,\n"
          ]
        },
        {
          "output_type": "stream",
          "name": "stdout",
          "text": [
            "0 : wa thought later took left order seen taken\n",
            "1 : db bit data place stuff add time line\n",
            "2 : server using display screen support code mouse application\n",
            "3 : file section information write source change entry number\n",
            "4 : disk drive hard controller support card board head\n",
            "5 : entry rule program source number info email build\n",
            "6 : new york sale change service result study early\n",
            "7 : image software user package using display include support\n",
            "8 : window manager application using offer user information course\n",
            "9 : gun united control house american second national issue\n",
            "10 : hockey league team game division player list san\n",
            "11 : turkish government sent war study came american world\n",
            "12 : program change technology display information version application rate\n",
            "13 : space nasa technology service national international small communication\n",
            "14 : government political federal sure free private local country\n",
            "15 : output line open write read return build section\n",
            "16 : people country doing tell live killed lot saying\n",
            "17 : widget application value set type return function list\n",
            "18 : child case rate le report area research group\n",
            "19 : jew jewish world war history help research arab\n",
            "20 : armenian russian muslim turkish world city road today\n",
            "21 : president said group tax press working package job\n",
            "22 : ground box usually power code current house white\n",
            "23 : russian president american support food money important private\n",
            "24 : ibm color week memory hardware monitor software standard\n",
            "25 : anonymous posting service server user group message post\n",
            "26 : la win san went list year radio near\n",
            "27 : work job young school lot private create business\n",
            "28 : encryption technology access device policy security government data\n",
            "29 : tape driver work memory using cause note following\n",
            "30 : war military world attack way united russian force\n",
            "31 : god bible shall man come life hell love\n",
            "32 : atheist religious religion belief god sort feel idea\n",
            "33 : data available information user research set model based\n",
            "34 : center research medical institute national study test north\n",
            "35 : think lot try trying talk kind agree certainly\n",
            "36 : water city division list public similar north high\n",
            "37 : section military shall weapon person division application mean\n",
            "38 : good cover great pretty probably bad issue life\n",
            "39 : drive head single mode set using model type\n",
            "40 : israeli arab attack policy true apr fact stop\n",
            "41 : use note using usually similar available standard work\n",
            "42 : know tell way come sure understand let saw\n",
            "43 : car speed driver change high buy different design\n",
            "44 : internet email address information anonymous user network mail\n",
            "45 : like look sound long little guy pretty having\n",
            "46 : going come way mean kind sure working got\n",
            "47 : state united public national political federal member local\n",
            "48 : dod bike member computer list started live email\n",
            "49 : greek killed act word western muslim turkish talk\n",
            "50 : computer information public internet list issue network communication\n",
            "51 : law act federal specific issue clear order moral\n",
            "52 : book read reference list copy second study offer\n",
            "53 : argument form true evidence event truth particular known\n",
            "54 : make sense difference little sure making end tell\n",
            "55 : scsi hard pc drive device bus different data\n",
            "56 : time long having able lot order light response\n",
            "57 : gun rate crime city death study control difference\n",
            "58 : right second free shall security mean left american\n",
            "59 : went came said told started saw took woman\n",
            "60 : power period second san special le play goal\n",
            "61 : used using product way function version note single\n",
            "62 : problem work having using help apple running error\n",
            "63 : available version widget server includes sun set support\n",
            "64 : question answer ask asked science reason claim post\n",
            "65 : san information police said group league political including\n",
            "66 : number serial large men report following million le\n",
            "67 : year ago old best sale hit long project\n",
            "68 : want help let life reason trying copy tell\n",
            "69 : point way different line algorithm exactly idea view\n",
            "70 : run running home version start hit win speed\n",
            "71 : got shot play took goal went hit lead\n",
            "72 : thing saw sure got trying kind seen asked\n",
            "73 : graphic send mail message package server various computer\n",
            "74 : university science department general computer thanks engineering texas\n",
            "75 : just maybe start thought big probably look getting\n",
            "76 : key message public security algorithm standard method attack\n",
            "77 : doe mean anybody actually different ask reading difference\n",
            "78 : game win sound play left second lead great\n",
            "79 : ha able called taken given past exactly looking\n",
            "80 : believe belief christian truth evidence claim mean different\n",
            "81 : drug study information war group reason usa evidence\n",
            "82 : need help phone able needed kind thanks bike\n",
            "83 : did death let money fact man wanted body\n",
            "84 : chip clipper serial algorithm phone communication encryption key\n",
            "85 : card driver video support mode mouse board bus\n",
            "86 : church christian member group true bible different view\n",
            "87 : ftp available anonymous general nasa package source version\n",
            "88 : better player best play probably hit maybe big\n",
            "89 : human life person moral kill claim reason world\n",
            "90 : bit using let change mode attack size quite\n",
            "91 : say mean word act clear said read simply\n",
            "92 : health medical public national care study service user\n",
            "93 : article post usa read world discussion opinion gmt\n",
            "94 : team player win play city look bad great\n",
            "95 : day come word christian said tell little way\n",
            "96 : really lot sure look fact idea actually feel\n",
            "97 : unit disk size serial total national got return\n",
            "98 : image color version free available display current better\n",
            "99 : woman men muslim religion way man great world\n"
          ]
        }
      ]
    }
  ],
  "metadata": {
    "colab": {
      "name": "news_groups_topics.ipynb",
      "provenance": [],
      "collapsed_sections": [],
      "authorship_tag": "ABX9TyMAm5PBg543FKXaFSynxOyP",
      "include_colab_link": true
    },
    "kernelspec": {
      "display_name": "Python 3",
      "name": "python3"
    },
    "language_info": {
      "name": "python"
    }
  },
  "nbformat": 4,
  "nbformat_minor": 0
}